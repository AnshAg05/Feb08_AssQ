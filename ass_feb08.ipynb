{
 "cells": [
  {
   "cell_type": "markdown",
   "metadata": {},
   "source": [
    "Q1. What is Abstraction in OOps? Explain with an example."
   ]
  },
  {
   "cell_type": "markdown",
   "metadata": {},
   "source": [
    "In object-oriented programming (OOP), abstraction is one of the fundamental principles that allows you to model real-world entities by emphasizing the essential features while ignoring the non-essential details. Abstraction helps in simplifying complex systems by focusing on the relevant aspects and hiding unnecessary complexities"
   ]
  },
  {
   "cell_type": "code",
   "execution_count": 1,
   "metadata": {},
   "outputs": [
    {
     "name": "stdout",
     "output_type": "stream",
     "text": [
      "2022 Toyota Camry is starting.\n",
      "The car is accelerating. Current speed: 10 km/h\n",
      "The car is braking. Current speed: 5 km/h\n",
      "2022 Toyota Camry has stopped.\n"
     ]
    }
   ],
   "source": [
    "class Car:\n",
    "    def __init__(self, make, model, year):\n",
    "        self.make = make\n",
    "        self.model = model\n",
    "        self.year = year\n",
    "        self.speed = 0\n",
    "\n",
    "    def start(self):\n",
    "        print(f\"{self.year} {self.make} {self.model} is starting.\")\n",
    "\n",
    "    def accelerate(self):\n",
    "        self.speed += 10\n",
    "        print(f\"The car is accelerating. Current speed: {self.speed} km/h\")\n",
    "\n",
    "    def brake(self):\n",
    "        self.speed -= 5\n",
    "        print(f\"The car is braking. Current speed: {self.speed} km/h\")\n",
    "\n",
    "    def stop(self):\n",
    "        self.speed = 0\n",
    "        print(f\"{self.year} {self.make} {self.model} has stopped.\")\n",
    "\n",
    "# Usage of the Car class\n",
    "my_car = Car(\"Toyota\", \"Camry\", 2022)\n",
    "my_car.start()\n",
    "my_car.accelerate()\n",
    "my_car.brake()\n",
    "my_car.stop()\n"
   ]
  },
  {
   "cell_type": "markdown",
   "metadata": {},
   "source": [
    "In this example, the Car class abstracts away the internal complexities of a car and provides a simple interface for interacting with it. The user of the Car class doesn't need to know the intricate details of how the engine works or how the braking system operates. Instead, they can focus on the high-level actions such as starting, accelerating, braking, and stopping the car. Abstraction allows us to manage the complexity of the real-world entity (car) by exposing only the relevant details."
   ]
  },
  {
   "cell_type": "markdown",
   "metadata": {},
   "source": [
    "Q2. Differentiate between Abstraction and Encapsulation. Explain with an example."
   ]
  },
  {
   "cell_type": "markdown",
   "metadata": {},
   "source": [
    "Abstraction is the process of simplifying complex systems by modeling classes based on the essential features and ignoring non-essential details."
   ]
  },
  {
   "cell_type": "code",
   "execution_count": 2,
   "metadata": {},
   "outputs": [],
   "source": [
    "from abc import ABC, abstractmethod\n",
    "\n",
    "class Shape(ABC):\n",
    "    @abstractmethod\n",
    "    def calculate_area(self):\n",
    "        pass\n",
    "\n",
    "    @abstractmethod\n",
    "    def draw(self):\n",
    "        pass\n",
    "\n",
    "class Circle(Shape):\n",
    "    def __init__(self, radius):\n",
    "        self.radius = radius\n",
    "\n",
    "    def calculate_area(self):\n",
    "        return 3.14 * self.radius * self.radius\n",
    "\n",
    "    def draw(self):\n",
    "        print(f\"Drawing a circle with radius {self.radius}\")\n",
    "\n",
    "# In this example, Shape is an abstract class that defines the common features of shapes (abstraction). The Circle class is a concrete implementation of a shape, providing specific details for calculating the area and drawing a circle."
   ]
  },
  {
   "cell_type": "markdown",
   "metadata": {},
   "source": [
    "Encapsulation is the bundling of data (attributes) and the methods (functions) that operate on that data into a single unit (class), restricting access to the internal details of the object."
   ]
  },
  {
   "cell_type": "code",
   "execution_count": 4,
   "metadata": {},
   "outputs": [
    {
     "name": "stdout",
     "output_type": "stream",
     "text": [
      "Ansh\n",
      "25\n",
      "26\n"
     ]
    }
   ],
   "source": [
    "class Person:\n",
    "    def __init__(self, name, age):\n",
    "        self._name = name  # Encapsulation - data hiding\n",
    "        self._age = age    # Encapsulation - data hiding\n",
    "\n",
    "    def get_name(self):\n",
    "        return self._name\n",
    "\n",
    "    def get_age(self):\n",
    "        return self._age\n",
    "\n",
    "    def set_age(self, new_age):\n",
    "        if new_age > 0:\n",
    "            self._age = new_age\n",
    "\n",
    "# Usage of the Person class\n",
    "person = Person(\"Ansh\", 25)\n",
    "print(person.get_name())  # Accessing data through methods (encapsulation)\n",
    "print(person.get_age())\n",
    "person.set_age(26)\n",
    "print(person.get_age())\n",
    "\n",
    "#In this example, the attributes (_name and _age) are encapsulated within the Person class. Access to these attributes is controlled through getter and setter methods, providing a level of abstraction and encapsulation. The internal details of the Person class are hidden, and external code interacts with the object through a well-defined interface.\n"
   ]
  },
  {
   "cell_type": "markdown",
   "metadata": {},
   "source": [
    "Q3. What is abc module in python? Why is it used?"
   ]
  },
  {
   "cell_type": "markdown",
   "metadata": {},
   "source": [
    "The abc module in Python stands for \"Abstract Base Classes.\" It provides the infrastructure for defining abstract base classes in Python. Abstract base classes are a way to define interfaces in Python, and they are used to enforce a common structure among the classes that implement them."
   ]
  },
  {
   "cell_type": "markdown",
   "metadata": {},
   "source": [
    "The abc module allows you to define abstract classes and abstract methods. Abstract classes can have abstract methods, which are meant to be overridden by concrete subclasses.By using abstract base classes, you can define a common interface that must be implemented by all subclasses. This helps in enforcing a certain structure or set of methods that derived classes must provide."
   ]
  },
  {
   "cell_type": "markdown",
   "metadata": {},
   "source": [
    "Q4. How can we achieve data abstraction?"
   ]
  },
  {
   "cell_type": "markdown",
   "metadata": {},
   "source": [
    "Data abstraction can be achieved by:"
   ]
  },
  {
   "cell_type": "markdown",
   "metadata": {},
   "source": [
    "1. Encapsulation:\n",
    "By encapsulating the internal details of an object within a class, you hide the implementation details and provide a controlled interface for interacting with the object. Users of the class interact with the object through its public methods, abstracting away the internal complexity."
   ]
  },
  {
   "cell_type": "markdown",
   "metadata": {},
   "source": [
    "2. Abstract Classes and Interfaces:Abstract classes and interfaces allow you to define a set of methods that must be implemented by concrete subclasses. This enforces a common interface while hiding the implementation details."
   ]
  },
  {
   "cell_type": "markdown",
   "metadata": {},
   "source": [
    "3. Access Modifiers:  By using access modifiers, you can restrict access to certain members of a class. Private members are only accessible within the class, providing a way to hide implementation details."
   ]
  },
  {
   "cell_type": "markdown",
   "metadata": {},
   "source": [
    "4. Getter and Setter Methods:  By using getter and setter methods, you can control access to attributes and perform additional operations, such as validation, before allowing changes."
   ]
  },
  {
   "cell_type": "markdown",
   "metadata": {},
   "source": [
    "Q5. Can we create an instance of an abstract class?\n"
   ]
  },
  {
   "cell_type": "markdown",
   "metadata": {},
   "source": [
    "No, you cannot create an instance of an abstract class in Python. Abstract classes are meant to be incomplete and serve as a blueprint for other classes to inherit from. They typically contain one or more abstract methods, which are methods without a concrete implementation. Abstract methods must be implemented by concrete (non-abstract) subclasses.\n",
    "\n",
    "In Python, abstract classes are created using the ABC (Abstract Base Class) metaclass from the abc module. Abstract methods within these classes are marked using the @abstractmethod decorator."
   ]
  },
  {
   "cell_type": "markdown",
   "metadata": {},
   "source": []
  }
 ],
 "metadata": {
  "kernelspec": {
   "display_name": "Python 3",
   "language": "python",
   "name": "python3"
  },
  "language_info": {
   "codemirror_mode": {
    "name": "ipython",
    "version": 3
   },
   "file_extension": ".py",
   "mimetype": "text/x-python",
   "name": "python",
   "nbconvert_exporter": "python",
   "pygments_lexer": "ipython3",
   "version": "3.10.4"
  }
 },
 "nbformat": 4,
 "nbformat_minor": 2
}
